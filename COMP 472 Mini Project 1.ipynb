{
 "cells": [
  {
   "cell_type": "markdown",
   "id": "49590f70",
   "metadata": {},
   "source": [
    "# Tree and Node classes\n",
    "Here, I define my tree and node classes, I decided to define scoring and cost logic all within the Node class and attached to node objects. This seemed like the easiest way to manage the data to me. I calculate and add all the children of any single node all using functions defined within the Node class. "
   ]
  },
  {
   "cell_type": "code",
   "execution_count": 157,
   "id": "f35221e9",
   "metadata": {},
   "outputs": [],
   "source": [
    "\n",
    "class Tree:\n",
    "    def __init__(self, root):\n",
    "        self.root = root\n",
    "class Node:\n",
    "    children = []\n",
    "    def __init__(self, parent, board, scorer, cost, goal):\n",
    "        self.parent = parent\n",
    "        # score produced by your heuristic of choice\n",
    "        self.heuristic_score = scorer(board, goal)\n",
    "        # the game state or board associated with this Node\n",
    "        self.board = board\n",
    "        self.scorer = scorer\n",
    "        # the cost to arrive at this node defined as the distance from the root node.\n",
    "        self.cost = cost\n",
    "        # the goal state\n",
    "        self.goal = goal\n",
    "    # this function adds children to a given node. This is not done automatically, as this function will be\n",
    "    # called directly in the search method.\n",
    "    def addChildren(self, childs):\n",
    "        self.children.extend(childs)\n",
    "    # this method uses the expandMoves method defined in the Board class to generate all possible moves and attach\n",
    "    # them as chilren to the current node, while each successor board being a new node of itself.\n",
    "    def expandChildren(self):\n",
    "        children = []\n",
    "        kids = self.board.expandMoves()\n",
    "        for e in kids:\n",
    "            if e == -1:\n",
    "                continue\n",
    "            children.append(Node(self,e,self.scorer,self.cost+1,self.goal))\n",
    "        return children\n",
    "\n",
    "        "
   ]
  },
  {
   "cell_type": "markdown",
   "id": "91b9f46b",
   "metadata": {},
   "source": [
    "# Heurisitics and random functions\n",
    "Here, I define all my heuristics and any other random functions I found useful to have."
   ]
  },
  {
   "cell_type": "code",
   "execution_count": 261,
   "id": "43a7e325",
   "metadata": {},
   "outputs": [],
   "source": [
    "def d2d(i):\n",
    "    x = i//3\n",
    "    y = i%3\n",
    "    return (x,y)\n",
    "# my implementation of the manhattan distance heuristic\n",
    "def manhattan(board: Board, list_goal):\n",
    "    score = 0\n",
    "    for i in range(9):\n",
    "        xd = abs(d2d(i)[0] - d2d(list_goal.index(board.pieces[i]))[0])\n",
    "        yd = abs(d2d(i)[1] - d2d(list_goal.index(board.pieces[i]))[1])\n",
    "        score += (xd+yd)\n",
    "    return score\n",
    "# my implementation of hamming distance heuristic\n",
    "def hamming(board: Board, list_goal):\n",
    "    score = 0\n",
    "    for i in range(9):\n",
    "        if list_goal[i] != board.pieces[i]:\n",
    "            score += 1\n",
    "    return score\n",
    "# my implementation of permutation inversions heurisitic\n",
    "def permutation_inversions(board: Board, list_goal):\n",
    "    sscore = 0\n",
    "    for i in range(9):\n",
    "        if board.pieces[i] == 'B':\n",
    "            continue\n",
    "        score = 0\n",
    "        for j in range(i+1,9):\n",
    "            # I compare the indexes of these elements in the goal state\n",
    "            if list_goal.index(board.pieces[j]) < list_goal.index(board.pieces[i]):\n",
    "                score += 1\n",
    "        sscore += score\n",
    "    return sscore\n",
    "# This is my non-admissible heuristic, which scores a state that does not have the empty \n",
    "# square in the right spot as 5, an incorrect state with the empty square in the right spot as 2,\n",
    "# and the correct or goal state as 0.\n",
    "def nonAdmissible(board, goal):\n",
    "    if board.pieces == goal:\n",
    "        return 0\n",
    "    elif board.pieces.index('B') == goal.index('B'):\n",
    "        return 2\n",
    "    else:\n",
    "        return 5\n",
    "         \n",
    "# a method to display a board if it is not in the form of a board object, and just a list\n",
    "def displayBoard(board):\n",
    "        for i in range(9):\n",
    "            print(board[i], end = '')\n",
    "            if (i+1)%3 == 0:\n",
    "                print('')"
   ]
  },
  {
   "cell_type": "markdown",
   "id": "ed0c23c5",
   "metadata": {},
   "source": [
    "# Board Class\n",
    "Here is the Board class, which is my extension on the list representation of the state of the game. I include all funtions for making moves, moveUp, moveLeft etc.., and also a function that generates all possible moves that can be made given a board, and what boards these moves produce. I use this function in my Node class within my expandChildren() function to expand children at a given node. I also keep track of the position of the empty square separately to allow for quick elimination of impossible moves. Within this class you will find the logic regarding the generation of successor states."
   ]
  },
  {
   "cell_type": "code",
   "execution_count": 262,
   "id": "f49a3984",
   "metadata": {},
   "outputs": [],
   "source": [
    "class Board:\n",
    "    def __init__(self, pieces, index_empty):\n",
    "        self.pieces = pieces\n",
    "        self.index_empty = index_empty\n",
    "    def moveLeft(self):\n",
    "        new = Board(list(self.pieces), self.index_empty)\n",
    "        if self.index_empty in [0, 3, 6]:\n",
    "            return -1\n",
    "        new.pieces[self.index_empty] = new.pieces[self.index_empty-1]\n",
    "        new.pieces[self.index_empty-1] = 'B'\n",
    "        new.index_empty = self.index_empty - 1\n",
    "        return new\n",
    "    def moveRight(self):\n",
    "        new = Board(list(self.pieces), self.index_empty)\n",
    "        if self.index_empty in [2, 5, 8]:\n",
    "            return -1\n",
    "        new.pieces[self.index_empty] = new.pieces[self.index_empty+1]\n",
    "        new.pieces[self.index_empty+1] = 'B'\n",
    "        new.index_empty = self.index_empty + 1\n",
    "        return new\n",
    "    def moveDown(self):\n",
    "        new = Board(list(self.pieces), self.index_empty)\n",
    "        if self.index_empty in [6, 7, 8]:\n",
    "            return -1\n",
    "        new.pieces[self.index_empty] = new.pieces[self.index_empty+3]\n",
    "        new.pieces[self.index_empty+3] = 'B'\n",
    "        new.index_empty = self.index_empty + 3\n",
    "        return new\n",
    "    def moveUp(self):\n",
    "        new = Board(list(self.pieces), self.index_empty)\n",
    "        if self.index_empty in [0, 1, 2]:\n",
    "            return -1\n",
    "        new.pieces[self.index_empty] = new.pieces[self.index_empty-3]\n",
    "        new.pieces[self.index_empty-3] = 'B'\n",
    "        new.index_empty = self.index_empty - 3\n",
    "        return new\n",
    "    def display(self):\n",
    "        for i in range(9):\n",
    "            print(self.pieces[i], end = '')\n",
    "            if (i+1)%3 == 0:\n",
    "                print('')\n",
    "                \n",
    "    def expandMoves(self):\n",
    "            kids = []\n",
    "            kids.append(self.moveRight())\n",
    "            kids.append(self.moveLeft())\n",
    "            kids.append(self.moveUp())\n",
    "            kids.append(self.moveDown())\n",
    "            return kids\n",
    "    \n",
    "                \n"
   ]
  },
  {
   "cell_type": "markdown",
   "id": "7bcb526e",
   "metadata": {},
   "source": [
    "# Search Function\n",
    "I created a search function that accepts as parameters all relevant conditions of the search. The initial state, the goal state, the heuristic we will be using to estimate the distance from the solution, and the search style. The heuristic paramater accepts a function that takes as parameters a Board object and goal state in the form of a list, and produces as output a score that is a number. The search style parameter takes a string. This string can be one of four options. 'BestFS', 'BFS', 'DFS', and 'A*'. These four options represent Best First Search, Breadth First Search, Depth First Search, and A* Search, respectively. How this is implemented and achived is explained below using inline comments. I also added parameters for what you want to print while it is searching. There is the boolean parameter print_current, which when set to True will make it so the search function prints the current node it is visiting at every iteration, there is print_lists, which when set to true makes it so that the search function prints the open and closed lists during every iteration of the search, and finally there is print_sol, which allows you to decide whether or not you would like to see the solution path printed when the search is over. These are all True by default. If the function finds a solution it will return both how long the search path was and how long the solution path is."
   ]
  },
  {
   "cell_type": "code",
   "execution_count": 263,
   "id": "7a46f0fe",
   "metadata": {},
   "outputs": [],
   "source": [
    "# Here is the Search function that prints the open and closed lists every iteration.\n",
    "def search(input_state, goal_state, heuristic, search_style, print_current=True, print_lists=True, print_sol=True):\n",
    "    # Here I initialize the root node\n",
    "    root = Node(None, Board(input_state,input_state.index('B')), heuristic,0, goal_state)\n",
    "    current = root\n",
    "    open_list = []\n",
    "    closed_list = []\n",
    "    search_path_length = 0\n",
    "    # a check to ensure we do not pointlessly pursue impossible goals\n",
    "    while search_path_length < 100000:\n",
    "        search_path_length += 1\n",
    "        # this checks if we have found the solution and if so, proceeds to print out the solution path from the\n",
    "        # root node to the solution\n",
    "        if current.heuristic_score == 0:\n",
    "            if print_sol:\n",
    "                print('---------------')\n",
    "                print('you have found a solution! Here is the solution path starting at the input state.' )\n",
    "                print('---------------')\n",
    "            solution_list = []\n",
    "            solution_list.append(current)\n",
    "            # using a while loop, I go all the way up from the solution node to the root, inserting \n",
    "            # the visitied node into the front of solution_list during every iteration\n",
    "            while current != root:\n",
    "                solution_list.insert(0,current.parent)\n",
    "                current = current.parent\n",
    "            # Now I simply iterate through solution_list, displaying each board\n",
    "            if print_sol == True:\n",
    "                for e in solution_list:\n",
    "                    e.board.display()\n",
    "                    if e == solution_list[len(solution_list) - 1]:\n",
    "                        break\n",
    "                    print('------next move-------')\n",
    "            return (search_path_length, len(solution_list))\n",
    "            break\n",
    "        kids = current.expandChildren()\n",
    "        # Here I check to see if any child has already been visited, if so, it is still added as a child to the\n",
    "        # current node, but will not be added to the open list.\n",
    "        for e in kids:\n",
    "            if e.board.pieces in closed_list:\n",
    "                continue\n",
    "            # if it is DFS, I add children to the front of the open list\n",
    "            if search_style =='DFS':\n",
    "                open_list.insert(0,e)\n",
    "            # if it is BFS, I add children to the back of the open list\n",
    "            else:\n",
    "                open_list.append(e)\n",
    "        current.addChildren(kids)\n",
    "        # if it is BestFS, I sort the open list using the values of the chosen heuristic\n",
    "        if(search_style == 'BestFS'):\n",
    "            open_list = sorted(open_list, key = lambda a: a.heuristic_score)\n",
    "        # if it is A*, I sort the open list using the values of the chosen heuristic + the cost to reach a given node\n",
    "        elif(search_style =='A*'):\n",
    "            open_list = sorted(open_list, key = lambda a: a.heuristic_score + a.cost)\n",
    "        # if it is not A* or BestFS, I do not sort the open_list\n",
    "        closed_list.append(current.board.pieces)\n",
    "        if print_current:\n",
    "            current.board.display()\n",
    "            print('__')\n",
    "            print('Heuristic Score : '+ str(heuristic(current.board, goal_state)))\n",
    "            print('__')\n",
    "        if print_lists:\n",
    "            print('------OPEN LIST------')\n",
    "            for e in open_list:\n",
    "                e.board.display()\n",
    "                print('__')\n",
    "                print('Heuristic Score : '+ str(heuristic(e.board, goal_state)))\n",
    "                print('__')\n",
    "            print('-----ClOSED LIST------')\n",
    "            for e in closed_list:\n",
    "                displayBoard(e)\n",
    "                print('__')\n",
    "            print('______________________')\n",
    "        # Here I set the new 'current' node to the node that is currently at the front of the open list,\n",
    "        # and then remove the element from the open list\n",
    "        current = open_list[0] \n",
    "        open_list.pop(0)\n",
    "\n",
    "        \n",
    "input_state = [2,8,3,1,6,4,7,'B',5]\n",
    "goal_state = [1,2,3,8,'B',4,7,6,5]"
   ]
  },
  {
   "cell_type": "markdown",
   "id": "7ef5b124",
   "metadata": {},
   "source": [
    "# Best First Search Comparisons\n",
    "Here, I compare all heuristics using best first search. "
   ]
  },
  {
   "cell_type": "code",
   "execution_count": 265,
   "id": "29be9c39",
   "metadata": {},
   "outputs": [
    {
     "name": "stdout",
     "output_type": "stream",
     "text": [
      "Manhattan Distance\n",
      "Solution Path Length: 6 Search Path Length: 6\n",
      "__________________________________________________________\n",
      "Hamming Distance\n",
      "Solution Path Length: 7 Search Path Length: 6\n",
      "__________________________________________________________\n",
      "Permutation Inversions\n",
      "Solution Path Length: 6 Search Path Length: 5\n",
      "__________________________________________________________\n",
      "Non-Admissible Heuristic\n",
      "Solution Path Length: 37 Search Path Length: 6\n"
     ]
    }
   ],
   "source": [
    "input_state = [2,8,3,1,6,4,7,'B',5]\n",
    "goal_state = [1,2,3,8,'B',4,7,6,5]\n",
    "print(\"Manhattan Distance\")\n",
    "x, y = search(input_state, goal_state, manhattan, 'BestFS', False, False, False)\n",
    "print('Solution Path Length: '+ str(x), 'Search Path Length: '+str(y))\n",
    "print('__________________________________________________________')\n",
    "print(\"Hamming Distance\")\n",
    "x1, y1 = search(input_state, goal_state, hamming, 'BestFS', False, False, False)\n",
    "print('Solution Path Length: '+ str(x1), 'Search Path Length: '+str(y1))\n",
    "print('__________________________________________________________')\n",
    "print(\"Permutation Inversions\")\n",
    "x2, y2 = search(input_state, goal_state, permutation_inversions, 'BestFS', False, False, False)\n",
    "print('Solution Path Length: '+ str(x2), 'Search Path Length: '+str(y2))\n",
    "print('__________________________________________________________')\n",
    "print(\"Non-Admissible Heuristic\")\n",
    "x3, y3 = search(input_state, goal_state, nonAdmissible, 'BestFS', False, False, False)\n",
    "print('Solution Path Length: '+ str(x3), 'Search Path Length: '+str(y3))"
   ]
  },
  {
   "cell_type": "markdown",
   "id": "f91b13ab",
   "metadata": {},
   "source": [
    "# A* Comparisons\n",
    "Here I compare all 4 heuristics using A* search"
   ]
  },
  {
   "cell_type": "code",
   "execution_count": 266,
   "id": "ea285dab",
   "metadata": {},
   "outputs": [
    {
     "name": "stdout",
     "output_type": "stream",
     "text": [
      "Manhattan Distance\n",
      "Solution Path Length: 6 Search Path Length: 6\n",
      "__________________________________________________________\n",
      "Hamming Distance\n",
      "Solution Path Length: 7 Search Path Length: 6\n",
      "__________________________________________________________\n",
      "Permutation Inversions\n",
      "Solution Path Length: 6 Search Path Length: 5\n",
      "__________________________________________________________\n",
      "Non-Admissible Heuristic\n",
      "Solution Path Length: 37 Search Path Length: 6\n"
     ]
    }
   ],
   "source": [
    "input_state = [2,8,3,1,6,4,7,'B',5]\n",
    "goal_state = [1,2,3,8,'B',4,7,6,5]\n",
    "print(\"Manhattan Distance\")\n",
    "x, y = search(input_state, goal_state, manhattan, 'A*', False, False, False)\n",
    "print('Solution Path Length: '+ str(x), 'Search Path Length: '+str(y))\n",
    "print('__________________________________________________________')\n",
    "print(\"Hamming Distance\")\n",
    "x1, y1 = search(input_state, goal_state, hamming, 'A*', False, False, False)\n",
    "print('Solution Path Length: '+ str(x1), 'Search Path Length: '+str(y1))\n",
    "print('__________________________________________________________')\n",
    "print(\"Permutation Inversions\")\n",
    "x2, y2 = search(input_state, goal_state, permutation_inversions, 'A*', False, False, False)\n",
    "print('Solution Path Length: '+ str(x2), 'Search Path Length: '+str(y2))\n",
    "print('__________________________________________________________')\n",
    "print(\"Non-Admissible Heuristic\")\n",
    "x3, y3 = search(input_state, goal_state, nonAdmissible, 'A*', False, False, False)\n",
    "print('Solution Path Length: '+ str(x3), 'Search Path Length: '+str(y3))"
   ]
  },
  {
   "cell_type": "markdown",
   "id": "a658b05d",
   "metadata": {},
   "source": [
    "# Harder Initial State Performance\n",
    "Being that this current initial state makes the goal quite easy to reach, I feel as though we may not have tested the search well enough to confirm or deny any expectations of behavior. Because of this, all the tests ran above were ran again but with the more difficult initial state"
   ]
  },
  {
   "cell_type": "markdown",
   "id": "1791edf0",
   "metadata": {},
   "source": [
    "## Best First Search"
   ]
  },
  {
   "cell_type": "code",
   "execution_count": 267,
   "id": "968b5da9",
   "metadata": {},
   "outputs": [
    {
     "name": "stdout",
     "output_type": "stream",
     "text": [
      "Manhattan Distance\n",
      "Solution Path Length: 33 Search Path Length: 118\n",
      "__________________________________________________________\n",
      "Hamming Distance\n",
      "Solution Path Length: 53 Search Path Length: 1128\n",
      "__________________________________________________________\n",
      "Permutation Inversions\n",
      "Solution Path Length: 88 Search Path Length: 1178\n",
      "__________________________________________________________\n",
      "Non-Admissible Heuristic\n",
      "Solution Path Length: 21 Search Path Length: 33072\n"
     ]
    }
   ],
   "source": [
    "input_state = [5,1,4,7,'B',6,3,8,2]\n",
    "goal_state = [1,2,3,8,'B',4,7,6,5]\n",
    "print(\"Manhattan Distance\")\n",
    "x, y = search(input_state, goal_state, manhattan, 'BestFS', False, False, False)\n",
    "print('Solution Path Length: '+ str(y), 'Search Path Length: '+str(x))\n",
    "print('__________________________________________________________')\n",
    "print(\"Hamming Distance\")\n",
    "x1, y1 = search(input_state, goal_state, hamming, 'BestFS', False, False, False)\n",
    "print('Solution Path Length: '+ str(y1), 'Search Path Length: '+str(x1))\n",
    "print('__________________________________________________________')\n",
    "print(\"Permutation Inversions\")\n",
    "x2, y2 = search(input_state, goal_state, permutation_inversions, 'BestFS', False, False, False)\n",
    "print('Solution Path Length: '+ str(y2), 'Search Path Length: '+str(x2))\n",
    "print('__________________________________________________________')\n",
    "print(\"Non-Admissible Heuristic\")\n",
    "x3, y3 = search(input_state, goal_state, nonAdmissible, 'BestFS', False, False, False)\n",
    "print('Solution Path Length: '+ str(y3), 'Search Path Length: '+str(x3))"
   ]
  },
  {
   "cell_type": "markdown",
   "id": "40be8845",
   "metadata": {},
   "source": [
    "## A*"
   ]
  },
  {
   "cell_type": "code",
   "execution_count": 269,
   "id": "43217434",
   "metadata": {},
   "outputs": [
    {
     "name": "stdout",
     "output_type": "stream",
     "text": [
      "Manhattan Distance\n",
      "Solution Path Length: 21 Search Path Length: 154\n",
      "__________________________________________________________\n",
      "Hamming Distance\n",
      "Solution Path Length: 21 Search Path Length: 4429\n",
      "__________________________________________________________\n",
      "Permutation Inversions\n",
      "Solution Path Length: 21 Search Path Length: 520\n",
      "__________________________________________________________\n",
      "Non-Admissible Heuristic\n",
      "Solution Path Length: 21 Search Path Length: 45425\n"
     ]
    }
   ],
   "source": [
    "print(\"Manhattan Distance\")\n",
    "ya, xa = search(input_state, goal_state, manhattan, 'A*', False, False, False)\n",
    "print('Solution Path Length: '+ str(xa), 'Search Path Length: '+str(ya))\n",
    "print('__________________________________________________________')\n",
    "print(\"Hamming Distance\")\n",
    "y1a, x1a = search(input_state, goal_state, hamming, 'A*', False, False, False)\n",
    "print('Solution Path Length: '+ str(x1a), 'Search Path Length: '+str(y1a))\n",
    "print('__________________________________________________________')\n",
    "print(\"Permutation Inversions\")\n",
    "y2a, x2a = search(input_state, goal_state, permutation_inversions, 'A*', False, False, False)\n",
    "print('Solution Path Length: '+ str(x2a), 'Search Path Length: '+str(y2a))\n",
    "print('__________________________________________________________')\n",
    "print(\"Non-Admissible Heuristic\")\n",
    "y3a, x3a = search(input_state, goal_state, nonAdmissible, 'A*', False, False, False)\n",
    "print('Solution Path Length: '+ str(x3a), 'Search Path Length: '+str(y3a))"
   ]
  },
  {
   "cell_type": "markdown",
   "id": "2571c39a",
   "metadata": {},
   "source": [
    "# Tabular presentation of data and analysis\n",
    "Since the harder seemed to highlight the differences between the different search algorithms and heuristics better, I used it to collect the data for this table. "
   ]
  },
  {
   "cell_type": "markdown",
   "id": "f00fab36",
   "metadata": {},
   "source": [
    "|Heuristic|Best First Search|A*|\n",
    "|:-:|:-:|:-:|\n",
    "|**Manhattan (Solution Path Length, Search Path Length)**|33, 118|21, 154|\n",
    "|**Hamming (Solution Path Length, Search Path Length)**|53, 1128|21, 4429|\n",
    "|**Permutation Inversions (Solution Path Length, Search Path Length)**|88, 1178|21, 520|\n",
    "|**Non-Admissible (Solution Path Length, Search Path Length)**|21, 33072|21,45425|\n"
   ]
  },
  {
   "cell_type": "markdown",
   "id": "1ed5de8d",
   "metadata": {},
   "source": [
    "## Analysis betweem heuristics"
   ]
  },
  {
   "cell_type": "markdown",
   "id": "7ee9b987",
   "metadata": {},
   "source": [
    "Everything performed close to what was expected, except for the permutation inversions heuristic. Manhattan outperformed Hamming distance when using both A\\* and BestFS, both in terms of the effort required to find the solution and the quality of the solution when found. The quality of the solution was marginally better, but how quickly we were able to find the solution, which is arguably the metric that a good heuristic most contributes to was signficantly improved when using manhattan. My non-admissble heuristic performed terribly, as expected, but did actually find the optimal solution even when using BestFS. This was not expected, but I think it is safe to say that taking 30x the time to find a solution that is 30 percent better is not optimal. The dissapointment here was the Permutation Inversions heuristic, which performed similarly to hamming in the BestFS, and much better than hamming when using A\\*. However, even though it was said to be superior to manhattan during the course lectures, performed signigicantly worse than manhattan in every configuration, in regards to both effeciency and effectivness. "
   ]
  },
  {
   "cell_type": "markdown",
   "id": "ca2e2674",
   "metadata": {},
   "source": [
    "## Analysis between searches"
   ]
  },
  {
   "cell_type": "markdown",
   "id": "e0d6b942",
   "metadata": {},
   "source": [
    "The difference between the searches is even more clear, as the A\\* was able to find the lowest cost solution path everytime, with every heuristic. Weirdly enough, that was the case even with the non-admissible heuristic. A\\* took consistently longer searching with every single heuristic, except for permutation inversions, where it took about half the time. Overall, especially in the case of manhattan, A\\* was far superior to BestFS in that for a slightly slower search time, the lowest cost solution path was guaranteed, which mean more than a 50 percent reduction for Hamming and a more than 75 percent reduction for Permutation Inversions. "
   ]
  },
  {
   "cell_type": "code",
   "execution_count": null,
   "id": "24e4b41f",
   "metadata": {},
   "outputs": [],
   "source": []
  }
 ],
 "metadata": {
  "kernelspec": {
   "display_name": "Python 3 (ipykernel)",
   "language": "python",
   "name": "python3"
  },
  "language_info": {
   "codemirror_mode": {
    "name": "ipython",
    "version": 3
   },
   "file_extension": ".py",
   "mimetype": "text/x-python",
   "name": "python",
   "nbconvert_exporter": "python",
   "pygments_lexer": "ipython3",
   "version": "3.9.7"
  }
 },
 "nbformat": 4,
 "nbformat_minor": 5
}
